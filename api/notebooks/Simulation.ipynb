{
 "cells": [
  {
   "cell_type": "code",
   "execution_count": 1,
   "id": "superior-editing",
   "metadata": {},
   "outputs": [],
   "source": [
    "import random\n",
    "import numpy as np\n",
    "import matplotlib.pyplot as plt\n",
    "from io import StringIO\n",
    "from app.wadray import Wad, Ray, _W, _R\n",
    "from app.utils import *\n",
    "\n",
    "YAML_SETUP = \"\"\"\n",
    "module: app.prototype_direct\n",
    "risk_modules:\n",
    "  - name: Roulette\n",
    "    mcr_percentage: 100\n",
    "    premium_share: 0\n",
    "    ensuro_share: 0\n",
    "etokens:\n",
    "  - name: eUSD1WEEK\n",
    "    expiration_period: 604800\n",
    "  - name: eUSD1MONTH\n",
    "    expiration_period: 2592000\n",
    "  - name: eUSD1YEAR\n",
    "    expiration_period: 31536000\n",
    "\"\"\"\n",
    "\n",
    "# protocol = load_config(StringIO(YAML_SETUP))"
   ]
  },
  {
   "cell_type": "code",
   "execution_count": 2,
   "id": "damaged-fishing",
   "metadata": {},
   "outputs": [
    {
     "name": "stdout",
     "output_type": "stream",
     "text": [
      "LP1 deposits 1M, balance: 1000000\n",
      "LP1 deposits 1M, balance: 1000000\n",
      "LP1 deposits 1M, balance: 1000000\n",
      "LP1 deposits 1M, balance: 1000000\n",
      "LP1 deposits 1M, balance: 1000000\n",
      "LP1 deposits 1M, balance: 1000000\n",
      "LP1 deposits 1M, balance: 1000000\n",
      "LP1 deposits 1M, balance: 1000000\n",
      "LP1 deposits 1M, balance: 1000000\n",
      "LP1 deposits 1M, balance: 1000000\n",
      "LP1 deposits 1M, balance: 1000000\n",
      "LP1 deposits 1M, balance: 1000000\n",
      "LP1 deposits 1M, balance: 1000000\n",
      "LP1 deposits 1M, balance: 1000000\n",
      "LP1 deposits 1M, balance: 1000000\n",
      "LP1 deposits 1M, balance: 1000000\n",
      "LP1 deposits 1M, balance: 1000000\n",
      "LP1 deposits 1M, balance: 1000000\n",
      "LP1 deposits 1M, balance: 1000000\n",
      "LP1 deposits 1M, balance: 1000000\n"
     ]
    }
   ],
   "source": [
    "def policy_factory(protocol, *args, **kwargs):\n",
    "    return protocol.new_policy(\n",
    "        \"Roulette\", payout=_W(360), premium=_W(10), \n",
    "        loss_prob=_R(1/37), expiration=protocol.now() + int(9.5 * DAY),\n",
    "    )\n",
    "\n",
    "\n",
    "def policy_resolver(policy_id, protocol, today, **kwargs):\n",
    "    policy = protocol.policies.get(policy_id)\n",
    "    if policy.expiration > today:\n",
    "        return None\n",
    "    return random.random() <= (1/37)\n",
    "\n",
    "\n",
    "class MyObserver(SimulationObserver):\n",
    "    metrics = [\"total_supply\", \"profit\", \"mcr\", \"ocean\"]\n",
    "\n",
    "    def start(self, protocol, **kwargs):\n",
    "        super().start(protocol=protocol, **kwargs)\n",
    "        print(\"LP1 deposits 1M, balance: {}\".format(protocol.deposit(\"eUSD1YEAR\", \"LP1\", _W(1000000))))\n",
    "        self.token = protocol.etokens[\"eUSD1YEAR\"]\n",
    "        self.initial_supply = self.token.total_supply()\n",
    "\n",
    "    def get_mcr(self, protocol, **kwargs):\n",
    "        return self.token.mcr.to_float()\n",
    "\n",
    "    def get_total_supply(self, protocol, **kwargs):\n",
    "        return self.token.total_supply().to_float()\n",
    "\n",
    "    def get_ocean(self, protocol, **kwargs):\n",
    "        return self.token.ocean.to_float()\n",
    "\n",
    "    def get_profit(self, protocol, **kwargs):\n",
    "        return (self.token.total_supply() - self.initial_supply).to_float()\n",
    "\n",
    "\n",
    "\n",
    "days = 100\n",
    "    \n",
    "policy_distribution = list(evenly_distribute(10000, days))\n",
    "\n",
    "observer = MyObserver()\n",
    "\n",
    "for run in range(20):\n",
    "    protocol = load_config(StringIO(YAML_SETUP))    \n",
    "    run_simulation(\n",
    "        protocol, DAY, policy_distribution,\n",
    "        policy_factory, policy_resolver, observer\n",
    "    )"
   ]
  },
  {
   "cell_type": "code",
   "execution_count": 3,
   "id": "cooperative-throw",
   "metadata": {},
   "outputs": [
    {
     "data": {
      "text/plain": [
       "<matplotlib.legend.Legend at 0x5603cc9b3478>"
      ]
     },
     "execution_count": 3,
     "metadata": {},
     "output_type": "execute_result"
    },
    {
     "name": "stderr",
     "output_type": "stream",
     "text": [
      "/opt/conda/lib_pypy/_functools.py:80: MatplotlibDeprecationWarning: savefig() got unexpected keyword argument \"orientation\" which is no longer supported as of 3.3 and will become an error two minor releases later\n",
      "  return self._func(*(self._args + fargs), **fkeywords)\n",
      "/opt/conda/lib_pypy/_functools.py:80: MatplotlibDeprecationWarning: savefig() got unexpected keyword argument \"dpi\" which is no longer supported as of 3.3 and will become an error two minor releases later\n",
      "  return self._func(*(self._args + fargs), **fkeywords)\n"
     ]
    },
    {
     "data": {
      "image/png": "[encoded data removed]",
      "text/plain": [
       "<Figure size 432x288 with 1 Axes>"
      ]
     },
     "metadata": {
      "needs_background": "light"
     },
     "output_type": "display_data"
    }
   ],
   "source": [
    "fig, ax = plt.subplots()\n",
    "profit_mean = observer.mean(\"profit\")\n",
    "profit_std = observer.std(\"profit\")\n",
    "\n",
    "ax.plot(range(days), profit_mean, '-', label=\"profit (mean)\")\n",
    "ax.fill_between(range(days), profit_mean - profit_std, profit_mean + profit_std, alpha=0.5)\n",
    "ax.legend()"
   ]
  },
  {
   "cell_type": "code",
   "execution_count": 4,
   "id": "interesting-marketplace",
   "metadata": {},
   "outputs": [
    {
     "name": "stdout",
     "output_type": "stream",
     "text": [
      "LP1 deposits 1M, balance: 1000000\n",
      "LP1 deposits 1M, balance: 1000000\n",
      "LP1 deposits 1M, balance: 1000000\n",
      "LP1 deposits 1M, balance: 1000000\n",
      "LP1 deposits 1M, balance: 1000000\n",
      "LP1 deposits 1M, balance: 1000000\n",
      "LP1 deposits 1M, balance: 1000000\n",
      "LP1 deposits 1M, balance: 1000000\n",
      "LP1 deposits 1M, balance: 1000000\n",
      "LP1 deposits 1M, balance: 1000000\n",
      "LP1 deposits 1M, balance: 1000000\n",
      "LP1 deposits 1M, balance: 1000000\n",
      "LP1 deposits 1M, balance: 1000000\n",
      "LP1 deposits 1M, balance: 1000000\n",
      "LP1 deposits 1M, balance: 1000000\n",
      "LP1 deposits 1M, balance: 1000000\n",
      "LP1 deposits 1M, balance: 1000000\n",
      "LP1 deposits 1M, balance: 1000000\n",
      "LP1 deposits 1M, balance: 1000000\n",
      "LP1 deposits 1M, balance: 1000000\n",
      "LP1 deposits 1M, balance: 1000000\n",
      "LP1 deposits 1M, balance: 1000000\n",
      "LP1 deposits 1M, balance: 1000000\n",
      "LP1 deposits 1M, balance: 1000000\n",
      "LP1 deposits 1M, balance: 1000000\n",
      "LP1 deposits 1M, balance: 1000000\n",
      "LP1 deposits 1M, balance: 1000000\n",
      "LP1 deposits 1M, balance: 1000000\n",
      "LP1 deposits 1M, balance: 1000000\n",
      "LP1 deposits 1M, balance: 1000000\n",
      "LP1 deposits 1M, balance: 1000000\n",
      "LP1 deposits 1M, balance: 1000000\n",
      "LP1 deposits 1M, balance: 1000000\n",
      "LP1 deposits 1M, balance: 1000000\n",
      "LP1 deposits 1M, balance: 1000000\n",
      "LP1 deposits 1M, balance: 1000000\n",
      "LP1 deposits 1M, balance: 1000000\n",
      "LP1 deposits 1M, balance: 1000000\n",
      "LP1 deposits 1M, balance: 1000000\n",
      "LP1 deposits 1M, balance: 1000000\n",
      "LP1 deposits 1M, balance: 1000000\n",
      "LP1 deposits 1M, balance: 1000000\n",
      "LP1 deposits 1M, balance: 1000000\n",
      "LP1 deposits 1M, balance: 1000000\n",
      "LP1 deposits 1M, balance: 1000000\n",
      "LP1 deposits 1M, balance: 1000000\n",
      "LP1 deposits 1M, balance: 1000000\n",
      "LP1 deposits 1M, balance: 1000000\n",
      "LP1 deposits 1M, balance: 1000000\n",
      "LP1 deposits 1M, balance: 1000000\n"
     ]
    }
   ],
   "source": [
    "class MySmoothObserver(MyObserver):\n",
    "    metrics = MyObserver.metrics + [\"protocol_loan\"]\n",
    "\n",
    "    def get_protocol_loan(self, protocol, **kwargs):\n",
    "        return self.token.protocol_loan.to_float()\n",
    "\n",
    "\n",
    "observer_smooth = MySmoothObserver()\n",
    "\n",
    "for run in range(50):\n",
    "    protocol = load_config(StringIO(YAML_SETUP.replace(\"app.prototype_direct\", \"app.prototype\")))    \n",
    "    run_simulation(\n",
    "        protocol, DAY, policy_distribution,\n",
    "        policy_factory, policy_resolver, observer_smooth\n",
    "    )"
   ]
  },
  {
   "cell_type": "code",
   "execution_count": 5,
   "id": "drawn-cheese",
   "metadata": {},
   "outputs": [
    {
     "data": {
      "text/plain": [
       "<matplotlib.legend.Legend at 0x5603d0376aa0>"
      ]
     },
     "execution_count": 5,
     "metadata": {},
     "output_type": "execute_result"
    },
    {
     "name": "stderr",
     "output_type": "stream",
     "text": [
      "/opt/conda/lib_pypy/_functools.py:80: MatplotlibDeprecationWarning: savefig() got unexpected keyword argument \"orientation\" which is no longer supported as of 3.3 and will become an error two minor releases later\n",
      "  return self._func(*(self._args + fargs), **fkeywords)\n",
      "/opt/conda/lib_pypy/_functools.py:80: MatplotlibDeprecationWarning: savefig() got unexpected keyword argument \"dpi\" which is no longer supported as of 3.3 and will become an error two minor releases later\n",
      "  return self._func(*(self._args + fargs), **fkeywords)\n"
     ]
    },
    {
     "data": {
      "image/png": "[encoded data removed]",
      "text/plain": [
       "<Figure size 432x288 with 1 Axes>"
      ]
     },
     "metadata": {
      "needs_background": "light"
     },
     "output_type": "display_data"
    }
   ],
   "source": [
    "fig, ax = plt.subplots()\n",
    "profit_mean = observer_smooth.mean(\"profit\")\n",
    "profit_std = observer_smooth.std(\"profit\")\n",
    "\n",
    "ax.plot(range(days), profit_mean, '-', label=\"profit (mean)\")\n",
    "ax.fill_between(range(days), profit_mean - profit_std, profit_mean + profit_std, alpha=0.5)\n",
    "ax.legend()"
   ]
  },
  {
   "cell_type": "code",
   "execution_count": 6,
   "id": "7a346b19",
   "metadata": {},
   "outputs": [
    {
     "name": "stdout",
     "output_type": "stream",
     "text": [
      "LP1 deposits 1M, balance: 1000000\n",
      "LP1 deposits 1M, balance: 1000000\n",
      "LP1 deposits 1M, balance: 1000000\n",
      "LP1 deposits 1M, balance: 1000000\n",
      "LP1 deposits 1M, balance: 1000000\n",
      "LP1 deposits 1M, balance: 1000000\n",
      "LP1 deposits 1M, balance: 1000000\n",
      "LP1 deposits 1M, balance: 1000000\n",
      "LP1 deposits 1M, balance: 1000000\n",
      "LP1 deposits 1M, balance: 1000000\n",
      "LP1 deposits 1M, balance: 1000000\n",
      "LP1 deposits 1M, balance: 1000000\n",
      "LP1 deposits 1M, balance: 1000000\n",
      "LP1 deposits 1M, balance: 1000000\n",
      "LP1 deposits 1M, balance: 1000000\n",
      "LP1 deposits 1M, balance: 1000000\n",
      "LP1 deposits 1M, balance: 1000000\n",
      "LP1 deposits 1M, balance: 1000000\n",
      "LP1 deposits 1M, balance: 1000000\n",
      "LP1 deposits 1M, balance: 1000000\n"
     ]
    }
   ],
   "source": [
    "observer_smooth_underestimated_loss = MySmoothObserver()\n",
    "\n",
    "def policy_factory(protocol, *args, **kwargs):\n",
    "    return protocol.new_policy(\n",
    "        \"Roulette\", payout=_W(360), premium=_W(10), \n",
    "        loss_prob=_R(90/3700), expiration=protocol.now() + int(9.5 * DAY),\n",
    "    )\n",
    "\n",
    "\n",
    "for run in range(20):\n",
    "    protocol = load_config(StringIO(YAML_SETUP.replace(\"app.prototype_direct\", \"app.prototype\")))    \n",
    "    run_simulation(\n",
    "        protocol, DAY, policy_distribution,\n",
    "        policy_factory, policy_resolver, observer_smooth_underestimated_loss\n",
    "    )\n",
    "\n"
   ]
  },
  {
   "cell_type": "code",
   "execution_count": 7,
   "id": "f2044f94",
   "metadata": {},
   "outputs": [
    {
     "data": {
      "text/plain": [
       "<matplotlib.legend.Legend at 0x5603d0968138>"
      ]
     },
     "execution_count": 7,
     "metadata": {},
     "output_type": "execute_result"
    },
    {
     "name": "stderr",
     "output_type": "stream",
     "text": [
      "/opt/conda/lib_pypy/_functools.py:80: MatplotlibDeprecationWarning: savefig() got unexpected keyword argument \"orientation\" which is no longer supported as of 3.3 and will become an error two minor releases later\n",
      "  return self._func(*(self._args + fargs), **fkeywords)\n",
      "/opt/conda/lib_pypy/_functools.py:80: MatplotlibDeprecationWarning: savefig() got unexpected keyword argument \"dpi\" which is no longer supported as of 3.3 and will become an error two minor releases later\n",
      "  return self._func(*(self._args + fargs), **fkeywords)\n"
     ]
    },
    {
     "data": {
      "image/png": "[encoded data removed]",
      "text/plain": [
       "<Figure size 432x288 with 1 Axes>"
      ]
     },
     "metadata": {
      "needs_background": "light"
     },
     "output_type": "display_data"
    }
   ],
   "source": [
    "fig, ax = plt.subplots()\n",
    "profit_mean = observer_smooth_underestimated_loss.mean(\"profit\")\n",
    "profit_std = observer_smooth_underestimated_loss.std(\"profit\")\n",
    "\n",
    "ax.plot(range(days), profit_mean, '-', label=\"profit (mean)\")\n",
    "ax.fill_between(range(days), profit_mean - profit_std, profit_mean + profit_std, alpha=0.5)\n",
    "ax.legend()"
   ]
  },
  {
   "cell_type": "code",
   "execution_count": 8,
   "id": "86ce116b",
   "metadata": {},
   "outputs": [
    {
     "name": "stdout",
     "output_type": "stream",
     "text": [
      "LP1 deposits 1M, balance: 1000000\n",
      "LP1 deposits 1M, balance: 1000000\n",
      "LP1 deposits 1M, balance: 1000000\n",
      "LP1 deposits 1M, balance: 1000000\n",
      "LP1 deposits 1M, balance: 1000000\n",
      "LP1 deposits 1M, balance: 1000000\n",
      "LP1 deposits 1M, balance: 1000000\n",
      "LP1 deposits 1M, balance: 1000000\n",
      "LP1 deposits 1M, balance: 1000000\n",
      "LP1 deposits 1M, balance: 1000000\n",
      "LP1 deposits 1M, balance: 1000000\n",
      "LP1 deposits 1M, balance: 1000000\n",
      "LP1 deposits 1M, balance: 1000000\n",
      "LP1 deposits 1M, balance: 1000000\n",
      "LP1 deposits 1M, balance: 1000000\n",
      "LP1 deposits 1M, balance: 1000000\n",
      "LP1 deposits 1M, balance: 1000000\n",
      "LP1 deposits 1M, balance: 1000000\n",
      "LP1 deposits 1M, balance: 1000000\n",
      "LP1 deposits 1M, balance: 1000000\n"
     ]
    }
   ],
   "source": [
    "observer_smooth_overestimated_loss = MySmoothObserver()\n",
    "\n",
    "def policy_factory(protocol, *args, **kwargs):\n",
    "    return protocol.new_policy(\n",
    "        \"Roulette\", payout=_W(360), premium=_W(10), \n",
    "        loss_prob=_R(102/3700), expiration=protocol.now() + int(9.5 * DAY),\n",
    "    )\n",
    "\n",
    "\n",
    "for run in range(20):\n",
    "    protocol = load_config(StringIO(YAML_SETUP.replace(\"app.prototype_direct\", \"app.prototype\")))    \n",
    "    run_simulation(\n",
    "        protocol, DAY, policy_distribution,\n",
    "        policy_factory, policy_resolver, observer_smooth_overestimated_loss\n",
    "    )\n",
    "\n"
   ]
  },
  {
   "cell_type": "code",
   "execution_count": 9,
   "id": "83d85763",
   "metadata": {},
   "outputs": [
    {
     "data": {
      "text/plain": [
       "<matplotlib.legend.Legend at 0x5603ca527fa0>"
      ]
     },
     "execution_count": 9,
     "metadata": {},
     "output_type": "execute_result"
    },
    {
     "name": "stderr",
     "output_type": "stream",
     "text": [
      "/opt/conda/lib_pypy/_functools.py:80: MatplotlibDeprecationWarning: savefig() got unexpected keyword argument \"orientation\" which is no longer supported as of 3.3 and will become an error two minor releases later\n",
      "  return self._func(*(self._args + fargs), **fkeywords)\n",
      "/opt/conda/lib_pypy/_functools.py:80: MatplotlibDeprecationWarning: savefig() got unexpected keyword argument \"dpi\" which is no longer supported as of 3.3 and will become an error two minor releases later\n",
      "  return self._func(*(self._args + fargs), **fkeywords)\n"
     ]
    },
    {
     "data": {
      "image/png": "[encoded data removed]",
      "text/plain": [
       "<Figure size 432x288 with 1 Axes>"
      ]
     },
     "metadata": {
      "needs_background": "light"
     },
     "output_type": "display_data"
    }
   ],
   "source": [
    "fig, ax = plt.subplots()\n",
    "profit_mean = observer_smooth_overestimated_loss.mean(\"profit\")\n",
    "profit_std = observer_smooth_overestimated_loss.std(\"profit\")\n",
    "\n",
    "ax.plot(range(days), profit_mean, '-', label=\"profit (mean)\")\n",
    "ax.fill_between(range(days), profit_mean - profit_std, profit_mean + profit_std, alpha=0.5)\n",
    "ax.legend()"
   ]
  }
 ],
 "metadata": {
  "kernelspec": {
   "display_name": "Python 3",
   "language": "python",
   "name": "python3"
  },
  "language_info": {
   "codemirror_mode": {
    "name": "ipython",
    "version": 3
   },
   "file_extension": ".py",
   "mimetype": "text/x-python",
   "name": "python",
   "nbconvert_exporter": "python",
   "pygments_lexer": "ipython3",
   "version": "3.6.12"
  }
 },
 "nbformat": 4,
 "nbformat_minor": 5
}
