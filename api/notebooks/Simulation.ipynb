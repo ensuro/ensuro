{
 "cells": [
  {
   "cell_type": "code",
   "execution_count": 1,
   "id": "superior-editing",
   "metadata": {},
   "outputs": [],
   "source": [
    "import random\n",
    "import numpy as np\n",
    "import matplotlib.pyplot as plt\n",
    "from io import StringIO\n",
    "from app.wadray import Wad, Ray, _W, _R\n",
    "from app.utils import *\n",
    "\n",
    "YAML_SETUP = \"\"\"\n",
    "module: app.prototype\n",
    "risk_modules:\n",
    "  - name: Roulette\n",
    "    mcr_percentage: 100\n",
    "    premium_share: 0\n",
    "    ensuro_share: 0\n",
    "etokens:\n",
    "  - name: eUSD1WEEK\n",
    "    expiration_period: 604800\n",
    "  - name: eUSD1MONTH\n",
    "    expiration_period: 2592000\n",
    "  - name: eUSD1YEAR\n",
    "    expiration_period: 31536000\n",
    "\"\"\"\n",
    "\n",
    "# protocol = load_config(StringIO(YAML_SETUP))"
   ]
  },
  {
   "cell_type": "code",
   "execution_count": 2,
   "id": "damaged-fishing",
   "metadata": {},
   "outputs": [
    {
     "name": "stdout",
     "output_type": "stream",
     "text": [
      "LP1 deposits 1M, balance: 1000000\n",
      "LP1 deposits 1M, balance: 1000000\n",
      "LP1 deposits 1M, balance: 1000000\n",
      "LP1 deposits 1M, balance: 1000000\n",
      "LP1 deposits 1M, balance: 1000000\n",
      "LP1 deposits 1M, balance: 1000000\n",
      "LP1 deposits 1M, balance: 1000000\n",
      "LP1 deposits 1M, balance: 1000000\n",
      "LP1 deposits 1M, balance: 1000000\n",
      "LP1 deposits 1M, balance: 1000000\n",
      "LP1 deposits 1M, balance: 1000000\n",
      "LP1 deposits 1M, balance: 1000000\n",
      "LP1 deposits 1M, balance: 1000000\n",
      "LP1 deposits 1M, balance: 1000000\n",
      "LP1 deposits 1M, balance: 1000000\n",
      "LP1 deposits 1M, balance: 1000000\n",
      "LP1 deposits 1M, balance: 1000000\n",
      "LP1 deposits 1M, balance: 1000000\n",
      "LP1 deposits 1M, balance: 1000000\n",
      "LP1 deposits 1M, balance: 1000000\n"
     ]
    }
   ],
   "source": [
    "policy_count = 0\n",
    "\n",
    "def policy_factory(protocol, *args, **kwargs):\n",
    "    global policy_count\n",
    "    policy_count += 1\n",
    "    return protocol.new_policy(\n",
    "        \"Roulette\", payout=_W(360), premium=_W(10), \n",
    "        loss_prob=_R(1/37), expiration=protocol.now() + int(9.5 * DAY),\n",
    "    )\n",
    "\n",
    "\n",
    "def policy_resolver(policy_id, protocol, today, **kwargs):\n",
    "    policy = protocol.policies.get(policy_id)\n",
    "    if policy.expiration > today:\n",
    "        return None\n",
    "    return random.random() <= (1/37)\n",
    "\n",
    "\n",
    "class MyObserver(SimulationObserver):\n",
    "    metrics = [\"total_supply\", \"profit\", \"mcr\", \"ocean\"]\n",
    "\n",
    "    def start(self, protocol, **kwargs):\n",
    "        super().start(protocol=protocol, **kwargs)\n",
    "        print(\"LP1 deposits 1M, balance: {}\".format(protocol.deposit(\"eUSD1YEAR\", \"LP1\", _W(1000000))))\n",
    "        self.token = protocol.etokens[\"eUSD1YEAR\"]\n",
    "        self.initial_supply = self.token.total_supply()\n",
    "\n",
    "    def get_mcr(self, protocol, **kwargs):\n",
    "        return self.token.mcr.to_float()\n",
    "\n",
    "    def get_total_supply(self, protocol, **kwargs):\n",
    "        return self.token.total_supply().to_float()\n",
    "\n",
    "    def get_ocean(self, protocol, **kwargs):\n",
    "        return self.token.ocean.to_float()\n",
    "\n",
    "    def get_profit(self, protocol, **kwargs):\n",
    "        return (self.token.total_supply() - self.initial_supply).to_float()\n",
    "\n",
    "\n",
    "\n",
    "days = 100\n",
    "    \n",
    "policy_distribution = list(random_distribute(10000, days))\n",
    "\n",
    "observer = MyObserver()\n",
    "\n",
    "for run in range(20):\n",
    "    protocol = load_config(StringIO(YAML_SETUP))    \n",
    "    run_simulation(\n",
    "        protocol, DAY, policy_distribution,\n",
    "        policy_factory, policy_resolver, observer\n",
    "    )"
   ]
  },
  {
   "cell_type": "code",
   "execution_count": 3,
   "id": "cooperative-throw",
   "metadata": {},
   "outputs": [
    {
     "data": {
      "text/plain": [
       "<matplotlib.collections.PolyCollection at 0x7efec0a12fd0>"
      ]
     },
     "execution_count": 3,
     "metadata": {},
     "output_type": "execute_result"
    },
    {
     "data": {
      "image/png": "[encoded data removed]",
      "text/plain": [
       "<Figure size 432x288 with 1 Axes>"
      ]
     },
     "metadata": {
      "needs_background": "light"
     },
     "output_type": "display_data"
    }
   ],
   "source": [
    "fig, ax = plt.subplots()\n",
    "profit_mean = observer.mean(\"profit\")\n",
    "profit_std = observer.std(\"profit\")\n",
    "\n",
    "ax.plot(range(days), profit_mean, '-')\n",
    "ax.fill_between(range(days), profit_mean - profit_std, profit_mean + profit_std, alpha=0.5)\n"
   ]
  },
  {
   "cell_type": "code",
   "execution_count": 4,
   "id": "otherwise-concentration",
   "metadata": {},
   "outputs": [
    {
     "name": "stdout",
     "output_type": "stream",
     "text": [
      "LP1 deposits 1M, balance: 1000000\n",
      "LP1 deposits 1M, balance: 1000000\n",
      "LP1 deposits 1M, balance: 1000000\n",
      "LP1 deposits 1M, balance: 1000000\n",
      "LP1 deposits 1M, balance: 1000000\n",
      "LP1 deposits 1M, balance: 1000000\n",
      "LP1 deposits 1M, balance: 1000000\n",
      "LP1 deposits 1M, balance: 1000000\n",
      "LP1 deposits 1M, balance: 1000000\n",
      "LP1 deposits 1M, balance: 1000000\n",
      "LP1 deposits 1M, balance: 1000000\n",
      "LP1 deposits 1M, balance: 1000000\n",
      "LP1 deposits 1M, balance: 1000000\n",
      "LP1 deposits 1M, balance: 1000000\n",
      "LP1 deposits 1M, balance: 1000000\n",
      "LP1 deposits 1M, balance: 1000000\n",
      "LP1 deposits 1M, balance: 1000000\n",
      "LP1 deposits 1M, balance: 1000000\n",
      "LP1 deposits 1M, balance: 1000000\n",
      "LP1 deposits 1M, balance: 1000000\n"
     ]
    }
   ],
   "source": [
    "class MySmoothObserver(MyObserver):\n",
    "    metrics = MyObserver.metrics + [\"protocol_loan\"]\n",
    "\n",
    "    def get_protocol_loan(self, protocol, **kwargs):\n",
    "        return self.token.protocol_loan.to_float()\n",
    "\n",
    "\n",
    "observer = MySmoothObserver()\n",
    "\n",
    "for run in range(20):\n",
    "    protocol = load_config(StringIO(YAML_SETUP.replace(\"app.prototype\", \"app.prototype_smooth\")))    \n",
    "    run_simulation(\n",
    "        protocol, DAY, policy_distribution,\n",
    "        policy_factory, policy_resolver, observer\n",
    "    )"
   ]
  },
  {
   "cell_type": "code",
   "execution_count": 5,
   "id": "historic-context",
   "metadata": {},
   "outputs": [
    {
     "data": {
      "text/plain": [
       "<matplotlib.collections.PolyCollection at 0x7efeb88a78b0>"
      ]
     },
     "execution_count": 5,
     "metadata": {},
     "output_type": "execute_result"
    },
    {
     "data": {
      "image/png": "[encoded data removed]",
      "text/plain": [
       "<Figure size 432x288 with 1 Axes>"
      ]
     },
     "metadata": {
      "needs_background": "light"
     },
     "output_type": "display_data"
    }
   ],
   "source": [
    "fig, ax = plt.subplots()\n",
    "profit_mean = observer.mean(\"profit\")\n",
    "profit_std = observer.std(\"profit\")\n",
    "\n",
    "ax.plot(range(days), profit_mean, '-')\n",
    "ax.fill_between(range(days), profit_mean - profit_std, profit_mean + profit_std, alpha=0.5)\n"
   ]
  }
 ],
 "metadata": {
  "kernelspec": {
   "display_name": "Python 3",
   "language": "python",
   "name": "python3"
  },
  "language_info": {
   "codemirror_mode": {
    "name": "ipython",
    "version": 3
   },
   "file_extension": ".py",
   "mimetype": "text/x-python",
   "name": "python",
   "nbconvert_exporter": "python",
   "pygments_lexer": "ipython3",
   "version": "3.8.8"
  }
 },
 "nbformat": 4,
 "nbformat_minor": 5
}
