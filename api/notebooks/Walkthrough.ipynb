{
 "cells": [
  {
   "cell_type": "markdown",
   "id": "b3e2325c",
   "metadata": {},
   "source": [
    "# Ensuro Protocol Walkthrough\n",
    "\n",
    "## 1. Setup \n",
    "\n",
    "The initial setup is the protocol with some ERC20 coin as underlying currency (probably will be USDT or other stable coin, here use just **USD**). Also, for this coin, we can have a few (~3-5) *eTokens* that represent the pools of capital available to backup the policies (each one with different preferences regarding which policies it can accept).\n",
    "\n",
    "Also the protocol have several risk modules plugged in. Each of these modules will have its own smart contract with the responsability of pricing and resolving the policies. "
   ]
  },
  {
   "cell_type": "code",
   "execution_count": 1,
   "id": "fabulous-territory",
   "metadata": {},
   "outputs": [],
   "source": [
    "from io import StringIO\n",
    "from app.wadray import Wad, Ray, _W, _R\n",
    "from app.utils import load_config, WEEK, DAY, parse_period\n",
    "\n",
    "YAML_SETUP = \"\"\"\n",
    "module: app.prototype\n",
    "risk_modules:\n",
    "  - name: Roulette\n",
    "    mcr_percentage: 1\n",
    "    premium_share: 0\n",
    "    ensuro_share: 0\n",
    "  - name: Flight-Insurance\n",
    "    mcr_percentage: \"0.9\"\n",
    "    premium_share: \"0.03\"\n",
    "    ensuro_share: \"0.015\"\n",
    "  - name: Fire-Insurance\n",
    "    mcr_percentage: \"0.8\"\n",
    "    premium_share: 0\n",
    "    ensuro_share: \"0.005\"\n",
    "currency:                                                                                             \n",
    "  name: USD                                                                                         \n",
    "  symbol: $                                                                                         \n",
    "  initial_supply: 6000                                                                              \n",
    "  initial_balances:                                                                                 \n",
    "  - user: LP1                                                                                       \n",
    "    amount: 1000                                                                                    \n",
    "  - user: LP2                                                                                       \n",
    "    amount: 2000                                                                                    \n",
    "  - user: LP3                                                                                       \n",
    "    amount: 2000\n",
    "  - user: CUST1\n",
    "    amount: 1\n",
    "  - user: CUST2\n",
    "    amount: 2\n",
    "  - user: CUST3\n",
    "    amount: 130    \n",
    "etokens:\n",
    "  - name: eUSD1WEEK\n",
    "    expiration_period: 604800\n",
    "  - name: eUSD1MONTH\n",
    "    expiration_period: 2592000\n",
    "  - name: eUSD1YEAR\n",
    "    expiration_period: 31536000\n",
    "\"\"\"\n",
    "\n",
    "protocol = load_config(StringIO(YAML_SETUP))\n",
    "SECONDS_IN_YEAR = 365 * 24 * 3600"
   ]
  },
  {
   "cell_type": "markdown",
   "id": "c665d31d",
   "metadata": {},
   "source": [
    "## 2. Liquidity providers deposits\n",
    "\n",
    "Liquidity providers deposit USD in the protocol for a specific eToken and they receive the same amount of eTokens.\n",
    "\n",
    "Those eTokens will accrue interest from the backed policies."
   ]
  },
  {
   "cell_type": "code",
   "execution_count": 2,
   "id": "black-diversity",
   "metadata": {},
   "outputs": [
    {
     "name": "stdout",
     "output_type": "stream",
     "text": [
      "LP1 deposits 1000, balance: 1000\n",
      "After a week balance is the same: 1000\n"
     ]
    }
   ],
   "source": [
    "start = protocol.now()\n",
    "deposits_by_lp = {}\n",
    "\n",
    "def do_deposit(etoken, lp, amount):\n",
    "    protocol.currency.approve(lp, protocol.contract_id, amount)\n",
    "    balance = protocol.deposit(etoken, lp, amount)\n",
    "    print(f\"{lp} deposits {amount}, balance: {balance}\")\n",
    "    deposits_by_lp[(etoken, lp)] = (balance, protocol.now())\n",
    "    \n",
    "do_deposit(\"eUSD1YEAR\", \"LP1\", _W(1000))\n",
    "protocol.fast_forward_time(WEEK)\n",
    "\n",
    "eUSD1YEAR = protocol.etokens[\"eUSD1YEAR\"]\n",
    "eUSD1MONTH = protocol.etokens[\"eUSD1MONTH\"]\n",
    "eUSD1WEEK = protocol.etokens[\"eUSD1WEEK\"]\n",
    "USD = protocol.currency \n",
    "\n",
    "print(\"After a week balance is the same: {}\".format(eUSD1YEAR.balance_of(\"LP1\")))"
   ]
  },
  {
   "cell_type": "markdown",
   "id": "mobile-council",
   "metadata": {},
   "source": [
    "We now create a new policy. The relevant parameters for policies are: \n",
    "- **payout**: the amount to be paid to the customer in case the policy is triggered \n",
    "- **premium**: the amount paid by the customer\n",
    "- **loss_prob**: the probability (0..1) of the policy being triggered. This value is calculated (or estimated) by the risk module.\n",
    "- **expiration**: when the policy expires (in seconds)\n",
    "\n",
    "As a consecuence of these input parameters, other values are calculated:\n",
    "- **pure_premium**: the part of the premium that should be enought to cover the average losses (if loss_prob is exact). Calculated as `payout * loss_prob`\n",
    "- **mcr**: the amount that needs to be locked to cover the policy until it expires. It's calculated as `(payout-premium) * mcr_percentage`. The mcr_percentage is a parameter of the risk modules depending on the correlation between the policies (also regulatory requirements).  \n",
    "- **interest_rate**: after substracting the pure_premium, there should be an excess of the premium that is the source of earnings for the LPs (after taking also the share for Ensuro and the risk module developer). That excess amount, in relation with the MCR and the policy duration and normalized to a yearly rate is the *interest rate* of a policy.\n",
    "\n"
   ]
  },
  {
   "cell_type": "code",
   "execution_count": 3,
   "id": "musical-aberdeen",
   "metadata": {},
   "outputs": [
    {
     "name": "stdout",
     "output_type": "stream",
     "text": [
      "New Policy Created - MCR: 35 / Pure Premium: 0.972972972972973094 / Interest Rate: 0.040264754550468655\n",
      "    Locked fund - Token: eUSD1YEAR = 35\n"
     ]
    }
   ],
   "source": [
    "USD.approve(\"CUST1\", protocol.contract_id, _W(1))\n",
    "policy_1 = policy = protocol.new_policy(\n",
    "    \"Roulette\", payout=_W(36), premium=_W(1), \n",
    "    loss_prob=_R(1/37), expiration=protocol.now() + WEEK, \n",
    "    customer=\"CUST1\"\n",
    ")\n",
    "\n",
    "print(f\"New Policy Created - MCR: {policy.mcr} / Pure Premium: {policy.pure_premium} / Interest Rate: {policy.interest_rate}\")\n",
    "\n",
    "for etoken, amount in policy.locked_funds.items():\n",
    "    print(f\"    Locked fund - Token: {etoken} = {amount}\")"
   ]
  },
  {
   "cell_type": "markdown",
   "id": "cardiovascular-configuration",
   "metadata": {},
   "source": [
    "After one day, LP1's balance changes because it gets *interest* from active policy.\n",
    "\n",
    "If a new LP gets into the pool, she will get the interests from that day (proportionally to it's share of the pool), but not the previous ones."
   ]
  },
  {
   "cell_type": "code",
   "execution_count": 4,
   "id": "married-bahrain",
   "metadata": {},
   "outputs": [
    {
     "name": "stdout",
     "output_type": "stream",
     "text": [
      "After a day LP1's balance: 1000.003861003861003843\n",
      "LP2 deposits 2000, balance: 1999.999999999999999999\n",
      "LP1's day 2 balance: 1000.005148008460745486\n",
      "LP2's day 2 balance: 2000.002573999261262199\n"
     ]
    }
   ],
   "source": [
    "protocol.fast_forward_time(DAY)\n",
    "print(f\"After a day LP1's balance: {eUSD1YEAR.balance_of('LP1')}\")\n",
    "\n",
    "do_deposit(\"eUSD1YEAR\", \"LP2\", _W(2000))\n",
    "\n",
    "protocol.fast_forward_time(DAY)\n",
    "print(f\"LP1's day 2 balance: {eUSD1YEAR.balance_of('LP1')}\")\n",
    "print(f\"LP2's day 2 balance: {eUSD1YEAR.balance_of('LP2')}\")\n"
   ]
  },
  {
   "cell_type": "markdown",
   "id": "running-testament",
   "metadata": {},
   "source": [
    "Other or the same LPs can put money in the other pools with different expiration periods. The policies will be backed by all the eligible pools (based in the expiration time now, perhaps other criteria in the future) and the MCR will be distributed proportionally to the capital availability.\n",
    "\n",
    "If we create a new policy with expiration in 10 days, only capital from pools eUSD1MONTH and eUSD1YEAR will be locked."
   ]
  },
  {
   "cell_type": "code",
   "execution_count": 5,
   "id": "equal-agency",
   "metadata": {},
   "outputs": [
    {
     "name": "stdout",
     "output_type": "stream",
     "text": [
      "LP3 deposits 500, balance: 500\n",
      "LP3 deposits 1500, balance: 1500\n",
      "New Policy Created - MCR: 70 / Pure Premium: 1.945945945945946189 / Interest Rate: 0.028185328185328058\n",
      "    Locked fund - Token: eUSD1MONTH = 23.516196731858285406\n",
      "    Locked fund - Token: eUSD1YEAR = 46.483803268141714594\n"
     ]
    }
   ],
   "source": [
    "do_deposit(\"eUSD1WEEK\", \"LP3\", _W(500))\n",
    "do_deposit(\"eUSD1MONTH\", \"LP3\", _W(1500))\n",
    "\n",
    "USD.approve(\"CUST2\", protocol.contract_id, _W(2))\n",
    "\n",
    "policy_2 = policy = protocol.new_policy(\n",
    "    \"Roulette\", payout=_W(72), premium=_W(2), \n",
    "    loss_prob=_R(1/37), expiration=protocol.now() + 10 * DAY,\n",
    "    customer=\"CUST2\"\n",
    ")\n",
    "\n",
    "print(f\"New Policy Created - MCR: {policy.mcr} / Pure Premium: {policy.pure_premium} / Interest Rate: {policy.interest_rate}\")\n",
    "\n",
    "for etoken, amount in policy.locked_funds.items():\n",
    "    print(f\"    Locked fund - Token: {etoken} = {amount}\")"
   ]
  },
  {
   "cell_type": "markdown",
   "id": "pediatric-bulgaria",
   "metadata": {},
   "source": [
    "## 3. Policy resolution\n",
    "\n",
    "In a real situation, the policy resolution will be triggered from the Risk Module's smart contracts, with original source from some kind of oracle (for example flight status oracle for a flight insurance risk module).\n",
    "\n",
    "Here we simulate policies with different resolution. \n",
    "\n",
    "First policy is triggered (in favor of the customer), and we use the money from the *pure premiums* first to cover the payout. If it's not enought, we take a *loan* from the MCR."
   ]
  },
  {
   "cell_type": "code",
   "execution_count": 6,
   "id": "ceed71de",
   "metadata": {},
   "outputs": [
    {
     "name": "stdout",
     "output_type": "stream",
     "text": [
      "Before 1st policy triggered - Pure premiums = 2.918918918918919283\n",
      "  LP1 - eUSD1YEAR Balance: 1000.00763151043287881\n",
      "  LP2 - eUSD1YEAR Balance: 2000.007540984027981484\n",
      "After 1st policy triggered (customer_won=True):\n",
      "  LP1 - eUSD1YEAR Balance: 988.980576099846430418\n",
      "  LP2 - eUSD1YEAR Balance: 1977.953515313533349158\n",
      "Pure Premiums: 0 / Protocol Loan: 33.081081081081080717\n"
     ]
    }
   ],
   "source": [
    "protocol.fast_forward_time(DAY)\n",
    "print(f\"Before 1st policy triggered - Pure premiums = {protocol.pure_premiums}\")\n",
    "for LP in [\"LP1\", \"LP2\"]:\n",
    "    print(f\"  {LP} - eUSD1YEAR Balance: {eUSD1YEAR.balance_of(LP)}\")\n",
    "\n",
    "protocol.resolve_policy(\"Roulette\", policy_1.id, customer_won=True)\n",
    "print(\"After 1st policy triggered (customer_won=True):\")\n",
    "for LP in [\"LP1\", \"LP2\"]:\n",
    "    print(f\"  {LP} - eUSD1YEAR Balance: {eUSD1YEAR.balance_of(LP)}\")\n",
    "\n",
    "print(f\"Pure Premiums: {protocol.pure_premiums} / Protocol Loan: {eUSD1YEAR.protocol_loan}\")"
   ]
  },
  {
   "cell_type": "markdown",
   "id": "ec8d3d35",
   "metadata": {},
   "source": [
    "The 2nd policy is not triggered (resolved in favor of the protocol). In this case the LPs will only receive the complete interest (considering the duration of the policy, they already received 2 days of interest, when resolved they receive the rest)."
   ]
  },
  {
   "cell_type": "code",
   "execution_count": 7,
   "id": "signal-pendant",
   "metadata": {},
   "outputs": [
    {
     "name": "stdout",
     "output_type": "stream",
     "text": [
      "Before 2nd policy triggered:\n",
      "  LP1 - eUSD1YEAR Balance: 988.982969094591213778\n",
      "  LP2 - eUSD1YEAR Balance: 1977.958301284544263327\n",
      "  LP3 - eUSD1MONTH Balance: 1500.005447767582669848\n",
      "After 2nd policy triggered (customer_won=False):\n",
      "  LP1 - eUSD1YEAR Balance: 988.99134457619795554\n",
      "  LP2 - eUSD1YEAR Balance: 1977.97505218308246292\n",
      "  LP3 - eUSD1MONTH Balance: 1500.018159225275566161\n"
     ]
    }
   ],
   "source": [
    "protocol.fast_forward_time(2 * DAY)\n",
    "\n",
    "print(\"Before 2nd policy triggered:\")\n",
    "for LP, etoken in [(\"LP1\", eUSD1YEAR), (\"LP2\", eUSD1YEAR), (\"LP3\", eUSD1MONTH)]:\n",
    "    print(f\"  {LP} - {etoken.name} Balance: {etoken.balance_of(LP)}\")\n",
    "\n",
    "protocol.resolve_policy(\"Roulette\", policy_2.id, customer_won=False)\n",
    "\n",
    "print(\"After 2nd policy triggered (customer_won=False):\")\n",
    "for LP, etoken in [(\"LP1\", eUSD1YEAR), (\"LP2\", eUSD1YEAR), (\"LP3\", eUSD1MONTH)]:\n",
    "    print(f\"  {LP} - {etoken.name} Balance: {etoken.balance_of(LP)}\")"
   ]
  },
  {
   "cell_type": "code",
   "execution_count": 8,
   "id": "2fd9a697",
   "metadata": {},
   "outputs": [
    {
     "name": "stdout",
     "output_type": "stream",
     "text": [
      "eUSD1YEAR Total Supply: 2966.96639675928041846\n",
      "eUSD1YEAR Protocol Loan: 33.081081081081080717\n",
      "eUSD1YEAR current index: 0.988991344576197955540780771\n",
      "eUSD1YEAR LP1 Balance = 988.99134457619795554 = 1000 * 0.988991344576197955540780771 \n",
      "eUSD1YEAR LP2 Balance = 1977.97505218308246292 = 1999.992278022092578827 * 0.988991344576197955540780771 \n"
     ]
    }
   ],
   "source": [
    "print(f\"eUSD1YEAR Total Supply: {eUSD1YEAR.total_supply()}\")\n",
    "print(f\"eUSD1YEAR Protocol Loan: {eUSD1YEAR.protocol_loan}\")\n",
    "\n",
    "current_index = eUSD1YEAR._calculate_current_index()\n",
    "print(f\"eUSD1YEAR current index: {current_index}\")\n",
    "\n",
    "for lp in eUSD1YEAR.balances.keys():\n",
    "    print(f\"eUSD1YEAR {lp} Balance = {eUSD1YEAR.balance_of(lp)} = {eUSD1YEAR.balances[lp]} * {current_index} \")\n"
   ]
  },
  {
   "cell_type": "markdown",
   "id": "4663e458",
   "metadata": {},
   "source": [
    "## 4. Withdrawal\n",
    "\n",
    "At any moment, LPs can issue a `withdraw` transaction and convert back their eToken balances into the underlying token. They will be able to do this only if there is enought *ocean* (money not locked to any policy as MCR) in the eToken.\n",
    "\n",
    "When a LP withdraws, he gets in USD the equivalent to the eTokens he had, and those eTokens are burned. In this case, since LP2 withdraws when the results of the token are negative, he has negative APY."
   ]
  },
  {
   "cell_type": "code",
   "execution_count": 9,
   "id": "270dc77e",
   "metadata": {},
   "outputs": [
    {
     "name": "stdout",
     "output_type": "stream",
     "text": [
      "LP2 withdraws all her balance: 1977.97505218308246292\n",
      "LP2 eUSD1YEAR - Initial: 1999.999999999999999999 - Current: 1977.97505218308246292 - APY: -100.488824414686262923\n",
      "USD balance of LP2: 1977.97505218308246292\n"
     ]
    }
   ],
   "source": [
    "withdraw_amount = protocol.withdraw('eUSD1YEAR', 'LP2', None)\n",
    "print(f\"LP2 withdraws all her balance: {withdraw_amount}\")\n",
    "initial_balance, deposit_time = deposits_by_lp.pop((\"eUSD1YEAR\", \"LP2\"))\n",
    "apy = _W(100) * (withdraw_amount - initial_balance) * _W(SECONDS_IN_YEAR) // (initial_balance * _W(protocol.now() - deposit_time))\n",
    "\n",
    "print(f\"LP2 eUSD1YEAR - Initial: {initial_balance} - Current: {withdraw_amount} - APY: {apy}\")\n",
    "print(f\"USD balance of LP2: {USD.balance_of('LP2')}\")\n"
   ]
  },
  {
   "cell_type": "markdown",
   "id": "686dc8c9",
   "metadata": {},
   "source": [
    "## 5. Protocol loan repayment\n",
    "\n",
    "When the losses are bigger than expected and the premium pool is exhausted, the protocol takes money from eToken's MCR. That money is taken as a loan that will be repaid with future policies.\n",
    "\n",
    "Finally, new policies are sold, the load is repaid (proportionally to the MCR proportion the specific token covered of the policy), also accruing interests (fixed rate 5%, to define later how to calculate)."
   ]
  },
  {
   "cell_type": "code",
   "execution_count": 10,
   "id": "3c008505",
   "metadata": {},
   "outputs": [
    {
     "name": "stdout",
     "output_type": "stream",
     "text": [
      "Pure Premiums: 21.2194318750412539\n",
      "Protocol Loan eUSD1YEAR: 0\n",
      "Protocol Loan eUSD1MONTH: 0\n",
      "Protocol Loan eUSD1WEEK: 0\n"
     ]
    }
   ],
   "source": [
    "policies = []\n",
    "pure_premiums_by_day = []\n",
    "protocol_loan_by_day = []\n",
    "protocol.currency.approve(\"CUST3\", protocol.contract_id, _W(130))\n",
    "\n",
    "for day in range(65):\n",
    "    pure_premiums_by_day.append(protocol.pure_premiums)\n",
    "    protocol_loan_by_day.append(eUSD1YEAR.get_protocol_loan())\n",
    "    \n",
    "    new_policy = protocol.new_policy(\n",
    "        \"Roulette\", payout=_W(72), premium=_W(2), customer=\"CUST3\", \n",
    "        loss_prob=_R(1/37), expiration=protocol.now() + 6 * DAY\n",
    "    )\n",
    "    for p in list(policies):\n",
    "        if p.expiration > protocol.now():\n",
    "            break\n",
    "        protocol.resolve_policy(\"Roulette\", p.id, customer_won=day % 37 == 36)\n",
    "        policies.pop(0)\n",
    "    \n",
    "    protocol.fast_forward_time(DAY)\n",
    "    policies.append(new_policy)\n",
    "\n",
    "for i, p in enumerate(policies):\n",
    "    pure_premiums_by_day.append(protocol.pure_premiums)\n",
    "    protocol_loan_by_day.append(eUSD1YEAR.get_protocol_loan())\n",
    "\n",
    "    day = 65 + i\n",
    "    protocol.resolve_policy(\"Roulette\", p.id, customer_won=day % 37 == 36)\n",
    "    protocol.fast_forward_time(DAY)\n",
    "\n",
    "print(f\"Pure Premiums: {protocol.pure_premiums}\")\n",
    "for etoken in (\"eUSD1YEAR\", \"eUSD1MONTH\", \"eUSD1WEEK\"):\n",
    "    print(f\"Protocol Loan {etoken}: {protocol.etokens[etoken].get_protocol_loan()}\")\n"
   ]
  },
  {
   "cell_type": "code",
   "execution_count": 11,
   "id": "caef9428",
   "metadata": {},
   "outputs": [
    {
     "name": "stderr",
     "output_type": "stream",
     "text": [
      "/opt/conda/lib_pypy/_functools.py:80: MatplotlibDeprecationWarning: savefig() got unexpected keyword argument \"orientation\" which is no longer supported as of 3.3 and will become an error two minor releases later\n",
      "  return self._func(*(self._args + fargs), **fkeywords)\n",
      "/opt/conda/lib_pypy/_functools.py:80: MatplotlibDeprecationWarning: savefig() got unexpected keyword argument \"dpi\" which is no longer supported as of 3.3 and will become an error two minor releases later\n",
      "  return self._func(*(self._args + fargs), **fkeywords)\n"
     ]
    },
    {
     "data": {
      "image/png": "[encoded data removed]",
      "text/plain": [
       "<Figure size 432x288 with 1 Axes>"
      ]
     },
     "metadata": {
      "needs_background": "light"
     },
     "output_type": "display_data"
    }
   ],
   "source": [
    "import matplotlib.pyplot as plt\n",
    "\n",
    "plt.plot(range(len(pure_premiums_by_day)), [x.to_float() for x in pure_premiums_by_day], label='Pure Premiums Pool')\n",
    "plt.plot(range(len(pure_premiums_by_day)), [x.to_float() for x in protocol_loan_by_day], label='Protocol Loan eUSD1YEAR')\n",
    "plt.legend()\n",
    "plt.show()"
   ]
  },
  {
   "cell_type": "code",
   "execution_count": 12,
   "id": "5395048b",
   "metadata": {},
   "outputs": [
    {
     "name": "stdout",
     "output_type": "stream",
     "text": [
      "eUSD1YEAR total: 1023.422734019840732923\n",
      "eUSD1MONTH total: 1501.780048568622237637\n",
      "eUSD1WEEK total: 1023.422734019840732923\n",
      "LP LP1 eUSD1YEAR - Initial: 1000 - Current: 1023.422734019840732922 - APY: 10.300358936435984959\n",
      "LP LP3 eUSD1WEEK - Initial: 500 - Current: 500.587289337969297047 - APY: 0.579352995564306546\n",
      "LP LP3 eUSD1MONTH - Initial: 1500 - Current: 1501.780048568622237637 - APY: 0.585331286078483547\n"
     ]
    }
   ],
   "source": [
    "\n",
    "print(f\"eUSD1YEAR total: {eUSD1YEAR.total_supply()}\")\n",
    "print(f\"eUSD1MONTH total: {eUSD1MONTH.total_supply()}\")\n",
    "print(f\"eUSD1WEEK total: {eUSD1YEAR.total_supply()}\")\n",
    "\n",
    "now = protocol.now()\n",
    "\n",
    "for ((etoken, lp), (initial_balance, deposit_time)) in deposits_by_lp.items():\n",
    "    etk = protocol.etokens[etoken]\n",
    "    balance = etk.balance_of(lp)\n",
    "    apy = _W(100) * (balance - initial_balance) * _W(SECONDS_IN_YEAR) // (initial_balance * _W(now - deposit_time))\n",
    "    print(f\"LP {lp} {etoken} - Initial: {initial_balance} - Current: {balance} - APY: {apy}\")\n"
   ]
  },
  {
   "cell_type": "code",
   "execution_count": 13,
   "id": "4a8f2ff3",
   "metadata": {},
   "outputs": [
    {
     "data": {
      "text/plain": [
       "72"
      ]
     },
     "execution_count": 13,
     "metadata": {},
     "output_type": "execute_result"
    }
   ],
   "source": [
    "USD.balance_of(\"CUST3\")"
   ]
  }
 ],
 "metadata": {
  "kernelspec": {
   "display_name": "Python 3",
   "language": "python",
   "name": "python3"
  },
  "language_info": {
   "codemirror_mode": {
    "name": "ipython",
    "version": 3
   },
   "file_extension": ".py",
   "mimetype": "text/x-python",
   "name": "python",
   "nbconvert_exporter": "python",
   "pygments_lexer": "ipython3",
   "version": "3.6.12"
  }
 },
 "nbformat": 4,
 "nbformat_minor": 5
}
