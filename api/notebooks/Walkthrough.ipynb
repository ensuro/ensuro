{
 "cells": [
  {
   "cell_type": "code",
   "execution_count": 1,
   "id": "fabulous-territory",
   "metadata": {},
   "outputs": [],
   "source": [
    "from io import StringIO\n",
    "from app.wadray import Wad, Ray, _W, _R\n",
    "from app.utils import load_config, WEEK, DAY, parse_period\n",
    "\n",
    "YAML_SETUP = \"\"\"\n",
    "module: app.prototype\n",
    "risk_modules:\n",
    "  - name: Roulette\n",
    "    mcr_percentage: 100\n",
    "    premium_share: 0\n",
    "    ensuro_share: 0\n",
    "  - name: Flight-Insurance\n",
    "    mcr_percentage: 90\n",
    "    premium_share: 3\n",
    "    ensuro_share: 1.5\n",
    "  - name: Fire-Insurance\n",
    "    mcr_percentage: 80\n",
    "    premium_share: 0\n",
    "    ensuro_share: 0.5\n",
    "etokens:\n",
    "  - name: eUSD1WEEK\n",
    "    expiration_period: 604800\n",
    "  - name: eUSD1MONTH\n",
    "    expiration_period: 2592000\n",
    "  - name: eUSD1YEAR\n",
    "    expiration_period: 31536000\n",
    "\"\"\"\n",
    "\n",
    "protocol = load_config(StringIO(YAML_SETUP))"
   ]
  },
  {
   "cell_type": "code",
   "execution_count": 2,
   "id": "black-diversity",
   "metadata": {},
   "outputs": [
    {
     "name": "stdout",
     "output_type": "stream",
     "text": [
      "LP1 deposits 1000, balance: 1000\n",
      "After a week balance is the same: 1000\n"
     ]
    }
   ],
   "source": [
    "print(\"LP1 deposits 1000, balance: {}\".format(protocol.deposit(\"eUSD1YEAR\", \"LP1\", _W(1000))))\n",
    "protocol.fast_forward_time(WEEK)\n",
    "\n",
    "eUSD1YEAR = protocol.etokens[\"eUSD1YEAR\"]\n",
    "eUSD1MONTH = protocol.etokens[\"eUSD1MONTH\"]\n",
    "\n",
    "print(\"After a week balance is the same: {}\".format(eUSD1YEAR.balance_of(\"LP1\")))\n"
   ]
  },
  {
   "cell_type": "markdown",
   "id": "mobile-council",
   "metadata": {},
   "source": [
    "We now create a new policy. The relevant parameters for policies are: \n",
    "- **payout**: the amount to be paid to the customer in case the policy is triggered \n",
    "- **premium**: the amount paid by the customer\n",
    "- **loss_prob**: the probability (0..1) of the policy being triggered. This value is calculated (or estimated) by the risk module.\n",
    "- **expiration**: when the policy expires (in seconds)\n",
    "\n",
    "As a consecuence of these input parameters, other values are calculated:\n",
    "- **pure_premium**: the part of the premium that should be enought to cover the average losses (if loss_prob is exact). Calculated as `payout * loss_prob`\n",
    "- **mcr**: the amount that needs to be locked to cover the policy until it expires. It's calculated as `(payout-premium) * mcr_percentage`. The mcr_percentage is a parameter of the risk modules depending on the correlation between the policies (also regulatory requirements).  \n",
    "- **interest_rate**: after substracting the pure_premium, there should be an excess of the premium that is the source of earnings for the LPs (after taking also the share for Ensuro and the risk module developer). That excess amount, in relation with the MCR and the policy duration and normalized to a yearly rate is the *interest rate* of a policy.\n",
    "\n"
   ]
  },
  {
   "cell_type": "code",
   "execution_count": 3,
   "id": "musical-aberdeen",
   "metadata": {},
   "outputs": [
    {
     "name": "stdout",
     "output_type": "stream",
     "text": [
      "New Policy Created - MCR: 35 / Pure Premium: 0.972972972972973094 / Interest Rate: 0.040264754550468655\n",
      "    Locked fund - Token: eUSD1YEAR = 35\n"
     ]
    }
   ],
   "source": [
    "policy_1 = policy = protocol.new_policy(\n",
    "    \"Roulette\", payout=_W(36), premium=_W(1), \n",
    "    loss_prob=_R(1/37), expiration=protocol.now() + WEEK\n",
    ")\n",
    "\n",
    "print(f\"New Policy Created - MCR: {policy.mcr} / Pure Premium: {policy.pure_premium} / Interest Rate: {policy.interest_rate}\")\n",
    "\n",
    "for etoken, amount in policy.locked_funds:\n",
    "    print(f\"    Locked fund - Token: {etoken} = {amount}\")"
   ]
  },
  {
   "cell_type": "markdown",
   "id": "cardiovascular-configuration",
   "metadata": {},
   "source": [
    "After one day, LP1's balance changes because it gets *interest* from active policy.\n",
    "\n",
    "If a new LP gets into the pool, she will get the interests from that day (proportionally to it's share of the pool), but not the previous ones."
   ]
  },
  {
   "cell_type": "code",
   "execution_count": 4,
   "id": "married-bahrain",
   "metadata": {},
   "outputs": [
    {
     "name": "stdout",
     "output_type": "stream",
     "text": [
      "After a day LP1's balance: 1000.003861003861003843\n",
      "LP2 deposits 2000, balance: 2000\n",
      "LP1's day 2 balance: 1000.005148005148005124\n",
      "LP2's day 2 balance: 2000.002573992635807057\n"
     ]
    }
   ],
   "source": [
    "protocol.fast_forward_time(DAY)\n",
    "print(f\"After a day LP1's balance: {eUSD1YEAR.balance_of('LP1')}\")\n",
    "print(\"LP2 deposits 2000, balance: {}\".format(protocol.deposit(\"eUSD1YEAR\", \"LP2\", _W(2000))))\n",
    "protocol.fast_forward_time(DAY)\n",
    "print(f\"LP1's day 2 balance: {eUSD1YEAR.balance_of('LP1')}\")\n",
    "print(f\"LP2's day 2 balance: {eUSD1YEAR.balance_of('LP2')}\")\n"
   ]
  },
  {
   "cell_type": "markdown",
   "id": "running-testament",
   "metadata": {},
   "source": [
    "Other or the same LPs can put money in the other pools with different expiration periods. The policies will be backed by all the eligible pools (based in the expiration time now, perhaps other criteria in the future) and the MCR will be distributed proportionally to the capital availability.\n",
    "\n",
    "If we create a new policy with expiration in 10 days, only capital from pools eUSD1MONTH and eUSD1YEAR will be locked."
   ]
  },
  {
   "cell_type": "code",
   "execution_count": 5,
   "id": "equal-agency",
   "metadata": {},
   "outputs": [
    {
     "name": "stdout",
     "output_type": "stream",
     "text": [
      "LP3 deposits 500 on eUSD1WEEK, balance: 500\n",
      "LP3 deposits 1500 on eUSD1MONTH, balance: 1500\n",
      "New Policy Created - MCR: 70 / Pure Premium: 1.945945945945946189 / Interest Rate: 0.028185328185328058\n",
      "    Locked fund - Token: eUSD1MONTH = 23.516156061841567086\n",
      "    Locked fund - Token: eUSD1YEAR = 46.483843938158432914\n"
     ]
    }
   ],
   "source": [
    "print(\"LP3 deposits 500 on eUSD1WEEK, balance: {}\".format(protocol.deposit(\"eUSD1WEEK\", \"LP3\", _W(500))))\n",
    "print(\"LP3 deposits 1500 on eUSD1MONTH, balance: {}\".format(protocol.deposit(\"eUSD1MONTH\", \"LP3\", _W(1500))))\n",
    "\n",
    "policy_2 = policy = protocol.new_policy(\n",
    "    \"Roulette\", payout=_W(72), premium=_W(2), \n",
    "    loss_prob=_R(1/37), expiration=protocol.now() + 10 * DAY\n",
    ")\n",
    "\n",
    "print(f\"New Policy Created - MCR: {policy.mcr} / Pure Premium: {policy.pure_premium} / Interest Rate: {policy.interest_rate}\")\n",
    "\n",
    "for etoken, amount in policy.locked_funds:\n",
    "    print(f\"    Locked fund - Token: {etoken} = {amount}\")"
   ]
  },
  {
   "cell_type": "markdown",
   "id": "pediatric-bulgaria",
   "metadata": {},
   "source": [
    "Finally the policies are resolved. If policy is triggered (in favor of the customer), the money of the accrued interests is taken from the supporting tokens along with the required MCR to do the payout.\n",
    "\n",
    "If policy not triggered, the premium amount will be added to the pool, substracting the accrued interest and the shares of the premium for Ensuro and the Risk Module."
   ]
  },
  {
   "cell_type": "code",
   "execution_count": 6,
   "id": "signal-pendant",
   "metadata": {
    "tags": [
     "hide-input"
    ]
   },
   "outputs": [
    {
     "name": "stdout",
     "output_type": "stream",
     "text": [
      "Before 1st policy triggered:\n",
      "  LP1 - eUSD1YEAR Balance: 1000.007631501774469938\n",
      "  LP2 - eUSD1YEAR Balance: 2000.007540966711230601\n",
      "After 1st policy triggered (customer_won=True):\n",
      "  LP1 - eUSD1YEAR Balance: 988.337103831246799428\n",
      "  LP2 - eUSD1YEAR Balance: 1976.666575745212729343\n",
      "Before 2nd policy triggered:\n",
      "  LP1 - eUSD1YEAR Balance: 988.339496821925726492\n",
      "  LP2 - eUSD1YEAR Balance: 1976.671361708091962316\n",
      "  LP3 - eUSD1MONTH Balance: 1500.005447758161044353\n",
      "After 2nd policy triggered (customer_won=False):\n",
      "  LP1 - eUSD1YEAR Balance: 988.77861061150884478\n",
      "  LP2 - eUSD1YEAR Balance: 1977.549585896431216888\n",
      "  LP3 - eUSD1MONTH Balance: 1500.671890173195473343\n"
     ]
    }
   ],
   "source": [
    "protocol.fast_forward_time(DAY)\n",
    "print(\"Before 1st policy triggered:\")\n",
    "for LP in [\"LP1\", \"LP2\"]:\n",
    "    print(f\"  {LP} - eUSD1YEAR Balance: {eUSD1YEAR.balance_of(LP)}\")\n",
    "\n",
    "protocol.resolve_policy(\"Roulette\", policy_1.id, customer_won=True)\n",
    "print(\"After 1st policy triggered (customer_won=True):\")\n",
    "for LP in [\"LP1\", \"LP2\"]:\n",
    "    print(f\"  {LP} - eUSD1YEAR Balance: {eUSD1YEAR.balance_of(LP)}\")\n",
    "\n",
    "\n",
    "protocol.fast_forward_time(2 * DAY)\n",
    "\n",
    "print(\"Before 2nd policy triggered:\")\n",
    "for LP, etoken in [(\"LP1\", eUSD1YEAR), (\"LP2\", eUSD1YEAR), (\"LP3\", eUSD1MONTH)]:\n",
    "    print(f\"  {LP} - {etoken.name} Balance: {etoken.balance_of(LP)}\")\n",
    "\n",
    "protocol.resolve_policy(\"Roulette\", policy_2.id, customer_won=False)\n",
    "\n",
    "print(\"After 2nd policy triggered (customer_won=False):\")\n",
    "for LP, etoken in [(\"LP1\", eUSD1YEAR), (\"LP2\", eUSD1YEAR), (\"LP3\", eUSD1MONTH)]:\n",
    "    print(f\"  {LP} - {etoken.name} Balance: {etoken.balance_of(LP)}\")"
   ]
  }
 ],
 "metadata": {
  "celltoolbar": "Tags",
  "kernelspec": {
   "display_name": "Python 3",
   "language": "python",
   "name": "python3"
  },
  "language_info": {
   "codemirror_mode": {
    "name": "ipython",
    "version": 3
   },
   "file_extension": ".py",
   "mimetype": "text/x-python",
   "name": "python",
   "nbconvert_exporter": "python",
   "pygments_lexer": "ipython3",
   "version": "3.8.8"
  }
 },
 "nbformat": 4,
 "nbformat_minor": 5
}
